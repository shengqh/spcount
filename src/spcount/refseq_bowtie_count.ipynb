{
 "cells": [
  {
   "cell_type": "code",
   "execution_count": 4,
   "metadata": {},
   "outputs": [],
   "source": [
    "import logging\n",
    "import re\n",
    "import argparse\n",
    "import gzip\n",
    "import pandas as pd\n",
    "\n",
    "def initialize_logger():\n",
    "  logger = logging.getLogger('count')\n",
    "  loglevel = logging.INFO\n",
    "  logger.setLevel(loglevel)\n",
    "\n",
    "  formatter = logging.Formatter('%(asctime)s - %(name)s - %(levelname)-8s - %(message)s')    \n",
    " \n",
    "  # create console handler and set level to info\n",
    "  handler = logging.StreamHandler()\n",
    "  handler.setLevel(loglevel)\n",
    "  handler.setFormatter(formatter)\n",
    "  logger.addHandler(handler)\n",
    " \n",
    "  return(logger)\n",
    "\n",
    "logger = initialize_logger()\n",
    "\n",
    "DEBUG = True\n",
    "NOT_DEBUG= not DEBUG\n",
    "\n",
    "parser = argparse.ArgumentParser(description=\"Get read count in chromosomes\",\n",
    "                                 formatter_class=argparse.ArgumentDefaultsHelpFormatter)\n",
    "\n",
    "parser.add_argument('-i', '--input', action='store', nargs='?', help='Input BAM file', required=NOT_DEBUG)\n",
    "parser.add_argument('-s', '--species', action='store', nargs='?', help='Input species file', required=NOT_DEBUG)\n",
    "parser.add_argument('-c', '--count', action='store', nargs='?', help='Input count file', required=NOT_DEBUG)\n",
    "parser.add_argument('-o', '--output', action='store', nargs='?', help=\"Output summary file\", required=NOT_DEBUG)\n",
    "\n",
    "args, unknown = parser.parse_known_args()\n",
    "\n",
    "if DEBUG:\n",
    "  args.input=\"/scratch/vickers_lab/projects/20220417_bacteria_genome/intermediate_data/refseq_bacteria_bowtie_count/result/WT_NSB_1.list\"\n",
    "  args.species=\"/data/cqs/references/spcount/20220406_bacteria.taxonomy.txt\"\n",
    "  args.count='/scratch/vickers_lab/projects/20220417_bacteria_genome/intermediate_data/bowtie1_genome_unmapped_reads/result/WT_NSB_1_clipped_identical.unmapped.fastq.dupcount'\n",
    "  args.output=\"/scratch/vickers_lab/projects/20220417_bacteria_genome/intermediate_data/refseq_bacteria_bowtie_count/result/WT_NSB_1.count\"\n",
    "\n"
   ]
  },
  {
   "cell_type": "code",
   "execution_count": 12,
   "metadata": {},
   "outputs": [],
   "source": [
    "count_map={}\n",
    "#logger.info(f\"reading count file {args.count}\")\n",
    "with open(args.count, \"rt\") as fin:\n",
    "  fin.readline()\n",
    "  for line in fin:\n",
    "    parts=line.split('\\t')\n",
    "    count_map[parts[0]] = parts[1]\n"
   ]
  },
  {
   "cell_type": "code",
   "execution_count": 13,
   "metadata": {},
   "outputs": [],
   "source": [
    "species_map={}\n",
    "with open(args.species, \"rt\") as fin:\n",
    "  line = fin.readline()\n",
    "  headers = line.rstrip().split('\\t')\n",
    "  species_index = headers.index('species')\n",
    "  for line in fin:\n",
    "    parts = line.rstrip().split('\\t')\n",
    "    species_map[parts[0]] = parts[species_index]\n"
   ]
  },
  {
   "cell_type": "code",
   "execution_count": 14,
   "metadata": {},
   "outputs": [],
   "source": [
    "\n",
    "assert(species_map['NC_000913.3'] == 'Escherichia coli')"
   ]
  },
  {
   "cell_type": "code",
   "execution_count": null,
   "metadata": {},
   "outputs": [],
   "source": [
    "read_map = {}\n",
    "with open(args.input, \"rt\") as fl:\n",
    "  for line in fl:\n",
    "    parts = re.split('\\s+', line.rstrip())\n",
    "    bowtie_file = parts[0]\n",
    "    logger.info(f\"parsing {bowtie_file}\")\n",
    "    with gzip.open(bowtie_file, \"rt\") as fin:\n",
    "      for bl in fin:\n",
    "        bparts = bl.split('\\t')\n",
    "        query = bparts[0].split(' ')[0]\n",
    "        species = species_map[bparts[2]]\n",
    "        read_map.setdefault(query,set()).add(species)\n",
    "\n",
    "#logger.info(f\"merge all bowtie result ...\")\n",
    "all_queries = [[query, int(count_map[query]), \",\".join(read_map[query])] for query in read_map.keys()]   \n",
    "all_queries.sort(key=lambda x:x[1], reverse=True)\n",
    "\n",
    "logger.info(f\"output to {args.output} ...\")\n",
    "with gzip.open(args.output, \"wt\") as fout:\n",
    "  fout.write(\"read\\tcount\\tspecies\\n\")\n",
    "  for query in all_queries:\n",
    "    fout.write(f\"{query[0]}\\t{query[1]}\\t{query[2]}\\n\")\n",
    "\n",
    "logger.info(\"done\")\n"
   ]
  }
 ],
 "metadata": {
  "interpreter": {
   "hash": "16b863e6d8d5fc256f45d05ded77a3123f992754796a7eba278cdde0e007a1fa"
  },
  "kernelspec": {
   "display_name": "Python 3.9.7",
   "language": "python",
   "name": "python3"
  },
  "language_info": {
   "codemirror_mode": {
    "name": "ipython",
    "version": 3
   },
   "file_extension": ".py",
   "mimetype": "text/x-python",
   "name": "python",
   "nbconvert_exporter": "python",
   "pygments_lexer": "ipython3",
   "version": "3.9.7"
  },
  "orig_nbformat": 4
 },
 "nbformat": 4,
 "nbformat_minor": 2
}
