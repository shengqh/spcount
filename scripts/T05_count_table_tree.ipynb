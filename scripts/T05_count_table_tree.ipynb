{
 "cells": [
  {
   "cell_type": "code",
   "execution_count": 1,
   "metadata": {},
   "outputs": [],
   "source": [
    "sys.path.insert(0, '/home/shengq2/program/spcount/src')\n",
    "\n",
    "from spcount.Species import Species\n",
    "from spcount.Query import Query\n",
    "from spcount.count_util import read_species_taxonomy_map, read_file_map, read_query_list, output_rank_list\n",
    "\n",
    "import pandas as pd\n"
   ]
  },
  {
   "cell_type": "code",
   "execution_count": 2,
   "metadata": {},
   "outputs": [
    {
     "name": "stdout",
     "output_type": "stream",
     "text": [
      "{'species': 'Escherichia coli', 'genus': 'Escherichia', 'family': 'Enterobacteriaceae', 'order': 'Enterobacterales', 'class': 'Gammaproteobacteria', 'phylum': 'Proteobacteria', 'superkingdom': 'Bacteria'}\n"
     ]
    }
   ],
   "source": [
    "species_file = \"/data/cqs/references/spcount/20220406_bacteria.taxonomy.txt\"\n",
    "species_taxonomy_map = read_species_taxonomy_map(species_file)\n",
    "species_names = list(species_taxonomy_map.keys())\n",
    "print(species_taxonomy_map[species_names[0]])\n"
   ]
  },
  {
   "cell_type": "code",
   "execution_count": 3,
   "metadata": {},
   "outputs": [],
   "source": [
    "result_dir=\"/scratch/vickers_lab/projects/20220417_bacteria_genome/nonhost_genome/refseq_bacteria_table/result/\""
   ]
  },
  {
   "cell_type": "code",
   "execution_count": 4,
   "metadata": {},
   "outputs": [
    {
     "name": "stdout",
     "output_type": "stream",
     "text": [
      "OrderedDict([('IgAKO_SB_1', '/scratch/vickers_lab/projects/20200625_4893_2_RA_smRNA_mouse_v5_byTiger/intermediate_data/refseq_bacteria_bowtie_count/result/IgAKO_SB_1.txt.gz'), ('IgAKO_SB_2', '/scratch/vickers_lab/projects/20200625_4893_2_RA_smRNA_mouse_v5_byTiger/intermediate_data/refseq_bacteria_bowtie_count/result/IgAKO_SB_2.txt.gz')])\n"
     ]
    }
   ],
   "source": [
    "file_map = read_file_map(result_dir + \"RA_4893_2__fileList1.list\")\n",
    "print(file_map)"
   ]
  },
  {
   "cell_type": "code",
   "execution_count": 5,
   "metadata": {},
   "outputs": [
    {
     "data": {
      "text/plain": [
       "['IgAKO_SB_1', 'IgAKO_SB_2']"
      ]
     },
     "execution_count": 5,
     "metadata": {},
     "output_type": "execute_result"
    }
   ],
   "source": [
    "samples=list(file_map.keys())\n",
    "samples"
   ]
  },
  {
   "cell_type": "code",
   "execution_count": 6,
   "metadata": {},
   "outputs": [
    {
     "name": "stdout",
     "output_type": "stream",
     "text": [
      "<spcount.Query.Query object at 0x7ff23e7a8460>\n"
     ]
    }
   ],
   "source": [
    "query_list = read_query_list(None, file_map, True)\n",
    "print(query_list[0])"
   ]
  },
  {
   "cell_type": "code",
   "execution_count": 7,
   "metadata": {},
   "outputs": [],
   "source": [
    "ranks = [ 'genus', 'family', 'order', 'class', 'phylum', 'superkingdom']\n"
   ]
  },
  {
   "cell_type": "code",
   "execution_count": 8,
   "metadata": {},
   "outputs": [
    {
     "name": "stdout",
     "output_type": "stream",
     "text": [
      "Pseudomonas\n",
      "genus\n"
     ]
    }
   ],
   "source": [
    "q1=query_list[0]\n",
    "q1.to_unique_rank(species_taxonomy_map, ranks)\n",
    "print(q1.unique_rank_name)\n",
    "print(q1.unique_rank)\n"
   ]
  },
  {
   "cell_type": "code",
   "execution_count": 9,
   "metadata": {},
   "outputs": [
    {
     "name": "stdout",
     "output_type": "stream",
     "text": [
      "genus: Pseudomonas\n",
      "family: Pseudomonadaceae\n",
      "order: Pseudomonadales\n",
      "class: Gammaproteobacteria\n",
      "phylum: Proteobacteria\n",
      "superkingdom: Bacteria\n"
     ]
    }
   ],
   "source": [
    "for rank in ranks:\n",
    "  rank_name = q1.aggregate_to_rank(species_taxonomy_map, rank)\n",
    "  print(f\"{rank}: {rank_name}\")"
   ]
  },
  {
   "cell_type": "code",
   "execution_count": 10,
   "metadata": {},
   "outputs": [],
   "source": [
    "aggregate_rate = 0.95\n",
    "\n",
    "for rank in ranks:\n",
    "  rank_map = {}\n",
    "  for q in query_list:\n",
    "    rank_name = q.aggregate_to_rank(species_taxonomy_map, rank)\n",
    "    if rank_name not in rank_map:\n",
    "      rank_map[rank_name] = Species(rank_name, rank)\n",
    "    rank_map[rank_name].add_query(q)\n",
    "  rank_objs = list(rank_map.values())\n",
    "  for rank_obj in rank_objs:\n",
    "    rank_obj.sum_query_count()\n",
    "  rank_objs.sort(key=lambda x:x.query_count, reverse=True)\n",
    "  output_rank_list(result_dir + f\"RA_4893_2.{rank}_aggregated.count\", rank_objs, samples)\n",
    "  \n",
    "  \n"
   ]
  },
  {
   "cell_type": "code",
   "execution_count": 94,
   "metadata": {},
   "outputs": [
    {
     "data": {
      "text/html": [
       "<div>\n",
       "<style scoped>\n",
       "    .dataframe tbody tr th:only-of-type {\n",
       "        vertical-align: middle;\n",
       "    }\n",
       "\n",
       "    .dataframe tbody tr th {\n",
       "        vertical-align: top;\n",
       "    }\n",
       "\n",
       "    .dataframe thead th {\n",
       "        text-align: right;\n",
       "    }\n",
       "</style>\n",
       "<table border=\"1\" class=\"dataframe\">\n",
       "  <thead>\n",
       "    <tr style=\"text-align: right;\">\n",
       "      <th></th>\n",
       "      <th>Rank_name</th>\n",
       "      <th>Rank</th>\n",
       "      <th>Count</th>\n",
       "    </tr>\n",
       "  </thead>\n",
       "  <tbody>\n",
       "    <tr>\n",
       "      <th>Bacteria</th>\n",
       "      <td>Bacteria</td>\n",
       "      <td>superkingdom</td>\n",
       "      <td>6552</td>\n",
       "    </tr>\n",
       "    <tr>\n",
       "      <th>Pseudopuniceibacterium sediminis</th>\n",
       "      <td>Pseudopuniceibacterium sediminis</td>\n",
       "      <td>species</td>\n",
       "      <td>400</td>\n",
       "    </tr>\n",
       "    <tr>\n",
       "      <th>Pseudomonas</th>\n",
       "      <td>Pseudomonas</td>\n",
       "      <td>genus</td>\n",
       "      <td>291</td>\n",
       "    </tr>\n",
       "    <tr>\n",
       "      <th>Proteobacteria</th>\n",
       "      <td>Proteobacteria</td>\n",
       "      <td>phylum</td>\n",
       "      <td>256</td>\n",
       "    </tr>\n",
       "    <tr>\n",
       "      <th>Exiguobacterium profundum</th>\n",
       "      <td>Exiguobacterium profundum</td>\n",
       "      <td>species</td>\n",
       "      <td>173</td>\n",
       "    </tr>\n",
       "  </tbody>\n",
       "</table>\n",
       "</div>"
      ],
      "text/plain": [
       "                                                         Rank_name  \\\n",
       "Bacteria                                                  Bacteria   \n",
       "Pseudopuniceibacterium sediminis  Pseudopuniceibacterium sediminis   \n",
       "Pseudomonas                                            Pseudomonas   \n",
       "Proteobacteria                                      Proteobacteria   \n",
       "Exiguobacterium profundum                Exiguobacterium profundum   \n",
       "\n",
       "                                          Rank  Count  \n",
       "Bacteria                          superkingdom   6552  \n",
       "Pseudopuniceibacterium sediminis       species    400  \n",
       "Pseudomonas                              genus    291  \n",
       "Proteobacteria                          phylum    256  \n",
       "Exiguobacterium profundum              species    173  "
      ]
     },
     "execution_count": 94,
     "metadata": {},
     "output_type": "execute_result"
    }
   ],
   "source": [
    "\n",
    "ranks=[ 'genus', 'family', 'order', 'class', 'phylum', 'superkingdom']\n",
    "for q in query_list:\n",
    "  q.to_unique_rank(species_taxonomy_map, ranks)\n",
    "\n",
    "rank_list = [q.unique_rank_name for q in query_list]\n",
    "\n",
    "import pandas as pd\n",
    "vc=pd.value_counts(rank_list)\n",
    "\n",
    "rank_map = {}\n",
    "for q in query_list:\n",
    "  rank_map[q.unique_rank_name] = q.unique_rank\n",
    "\n",
    "pvc=pd.DataFrame({'Rank_name':vc.keys(), 'Rank':[rank_map[r] for r in vc.keys()], \"Count\":vc})\n",
    "pvc.head()\n",
    "\n"
   ]
  },
  {
   "cell_type": "code",
   "execution_count": 95,
   "metadata": {},
   "outputs": [
    {
     "ename": "AttributeError",
     "evalue": "'Query' object has no attribute 'sample'",
     "output_type": "error",
     "traceback": [
      "\u001b[0;31m---------------------------------------------------------------------------\u001b[0m",
      "\u001b[0;31mAttributeError\u001b[0m                            Traceback (most recent call last)",
      "\u001b[0;32m/tmp/ipykernel_127359/913347047.py\u001b[0m in \u001b[0;36m<module>\u001b[0;34m\u001b[0m\n\u001b[1;32m      1\u001b[0m \u001b[0magg_species_list\u001b[0m \u001b[0;34m=\u001b[0m \u001b[0;34m{\u001b[0m\u001b[0;34m}\u001b[0m\u001b[0;34m\u001b[0m\u001b[0;34m\u001b[0m\u001b[0m\n\u001b[1;32m      2\u001b[0m \u001b[0;32mfor\u001b[0m \u001b[0mq\u001b[0m \u001b[0;32min\u001b[0m \u001b[0mquery_list\u001b[0m\u001b[0;34m:\u001b[0m\u001b[0;34m\u001b[0m\u001b[0;34m\u001b[0m\u001b[0m\n\u001b[0;32m----> 3\u001b[0;31m   \u001b[0magg_species_list\u001b[0m\u001b[0;34m.\u001b[0m\u001b[0msetdefault\u001b[0m\u001b[0;34m(\u001b[0m\u001b[0mq\u001b[0m\u001b[0;34m.\u001b[0m\u001b[0munique_rank_name\u001b[0m\u001b[0;34m,\u001b[0m \u001b[0;34m{\u001b[0m\u001b[0;34m\"rank\"\u001b[0m\u001b[0;34m:\u001b[0m\u001b[0mq\u001b[0m\u001b[0;34m.\u001b[0m\u001b[0munique_rank\u001b[0m\u001b[0;34m,\u001b[0m \u001b[0;34m\"sample_map\"\u001b[0m\u001b[0;34m:\u001b[0m\u001b[0;34m{\u001b[0m\u001b[0;34m}\u001b[0m\u001b[0;34m}\u001b[0m\u001b[0;34m)\u001b[0m\u001b[0;34m[\u001b[0m\u001b[0;34m\"sample_map\"\u001b[0m\u001b[0;34m]\u001b[0m\u001b[0;34m.\u001b[0m\u001b[0msetdefault\u001b[0m\u001b[0;34m(\u001b[0m\u001b[0mq\u001b[0m\u001b[0;34m.\u001b[0m\u001b[0msample\u001b[0m\u001b[0;34m,\u001b[0m \u001b[0;34m[\u001b[0m\u001b[0;34m]\u001b[0m\u001b[0;34m)\u001b[0m\u001b[0;34m.\u001b[0m\u001b[0mappend\u001b[0m\u001b[0;34m(\u001b[0m\u001b[0mq\u001b[0m\u001b[0;34m)\u001b[0m\u001b[0;34m\u001b[0m\u001b[0;34m\u001b[0m\u001b[0m\n\u001b[0m\u001b[1;32m      4\u001b[0m \u001b[0magg_species_list\u001b[0m\u001b[0;34m[\u001b[0m\u001b[0;34m'Bacteria'\u001b[0m\u001b[0;34m]\u001b[0m\u001b[0;34m\u001b[0m\u001b[0;34m\u001b[0m\u001b[0m\n",
      "\u001b[0;31mAttributeError\u001b[0m: 'Query' object has no attribute 'sample'"
     ]
    }
   ],
   "source": [
    "agg_species_list = {}\n",
    "for q in query_list:\n",
    "  agg_species_list.setdefault(q.unique_rank_name, {\"rank\":q.unique_rank, \"sample_map\":{}})[\"sample_map\"].setdefault(q.sample, []).append(q)\n",
    "agg_species_list['Bacteria']"
   ]
  },
  {
   "cell_type": "code",
   "execution_count": 26,
   "metadata": {},
   "outputs": [],
   "source": [
    "qmap = {}\n",
    "for q in query_list:\n",
    "  qmap.setdefault(q.unique_rank_name, []).append(len(q.seq))\n"
   ]
  },
  {
   "cell_type": "code",
   "execution_count": 73,
   "metadata": {},
   "outputs": [
    {
     "data": {
      "text/html": [
       "<div>\n",
       "<style scoped>\n",
       "    .dataframe tbody tr th:only-of-type {\n",
       "        vertical-align: middle;\n",
       "    }\n",
       "\n",
       "    .dataframe tbody tr th {\n",
       "        vertical-align: top;\n",
       "    }\n",
       "\n",
       "    .dataframe thead th {\n",
       "        text-align: right;\n",
       "    }\n",
       "</style>\n",
       "<table border=\"1\" class=\"dataframe\">\n",
       "  <thead>\n",
       "    <tr style=\"text-align: right;\">\n",
       "      <th></th>\n",
       "      <th>Rank</th>\n",
       "      <th>Length</th>\n",
       "    </tr>\n",
       "  </thead>\n",
       "  <tbody>\n",
       "    <tr>\n",
       "      <th>0</th>\n",
       "      <td>Bacteria</td>\n",
       "      <td>29</td>\n",
       "    </tr>\n",
       "    <tr>\n",
       "      <th>1</th>\n",
       "      <td>Bacteria</td>\n",
       "      <td>30</td>\n",
       "    </tr>\n",
       "    <tr>\n",
       "      <th>2</th>\n",
       "      <td>Bacteria</td>\n",
       "      <td>46</td>\n",
       "    </tr>\n",
       "    <tr>\n",
       "      <th>3</th>\n",
       "      <td>Bacteria</td>\n",
       "      <td>31</td>\n",
       "    </tr>\n",
       "    <tr>\n",
       "      <th>4</th>\n",
       "      <td>Bacteria</td>\n",
       "      <td>20</td>\n",
       "    </tr>\n",
       "  </tbody>\n",
       "</table>\n",
       "</div>"
      ],
      "text/plain": [
       "       Rank  Length\n",
       "0  Bacteria      29\n",
       "1  Bacteria      30\n",
       "2  Bacteria      46\n",
       "3  Bacteria      31\n",
       "4  Bacteria      20"
      ]
     },
     "execution_count": 73,
     "metadata": {},
     "output_type": "execute_result"
    }
   ],
   "source": [
    "import matplotlib.pyplot as plt\n",
    "import seaborn as sns\n",
    "\n",
    "df = pd.DataFrame()\n",
    "for rank in vc.keys()[0:9]:\n",
    "    # Subset to the airline\n",
    "    subset = qmap[rank]\n",
    "    sdf = pd.DataFrame({\"Rank\":rank, \"Length\":subset})\n",
    "    df = pd.concat([df, sdf])\n",
    "\n",
    "df.head()\n"
   ]
  },
  {
   "cell_type": "code",
   "execution_count": 74,
   "metadata": {},
   "outputs": [
    {
     "data": {
      "text/plain": [
       "0       1\n",
       "5381    1\n",
       "5394    1\n",
       "5393    1\n",
       "5392    1\n",
       "       ..\n",
       "2688    1\n",
       "2687    1\n",
       "2686    1\n",
       "2685    1\n",
       "8078    1\n",
       "Length: 8079, dtype: int64"
      ]
     },
     "execution_count": 74,
     "metadata": {},
     "output_type": "execute_result"
    }
   ],
   "source": [
    "df.index=range(df.shape[0])\n",
    "df.index.value_counts()\n"
   ]
  },
  {
   "cell_type": "code",
   "execution_count": 79,
   "metadata": {},
   "outputs": [
    {
     "data": {
      "image/png": "[encoded data removed]",
      "text/plain": [
       "<Figure size 648x648 with 9 Axes>"
      ]
     },
     "metadata": {
      "needs_background": "light"
     },
     "output_type": "display_data"
    }
   ],
   "source": [
    "g = sns.FacetGrid(df, col=\"Rank\", col_wrap=3, sharey=False)\n",
    "g.map(sns.histplot, \"Length\", bins=25)\n",
    "g.savefig('/scratch/vickers_lab/projects/20220417_bacteria_genome/nonhost_genome/refseq_bacteria_table/result/top9.readlen.png', dpi=300)\n"
   ]
  }
 ],
 "metadata": {
  "interpreter": {
   "hash": "16b863e6d8d5fc256f45d05ded77a3123f992754796a7eba278cdde0e007a1fa"
  },
  "kernelspec": {
   "display_name": "Python 3.9.7",
   "language": "python",
   "name": "python3"
  },
  "language_info": {
   "codemirror_mode": {
    "name": "ipython",
    "version": 3
   },
   "file_extension": ".py",
   "mimetype": "text/x-python",
   "name": "python",
   "nbconvert_exporter": "python",
   "pygments_lexer": "ipython3",
   "version": "3.9.7"
  },
  "orig_nbformat": 4
 },
 "nbformat": 4,
 "nbformat_minor": 2
}
