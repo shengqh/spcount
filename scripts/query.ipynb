{
 "cells": [
  {
   "cell_type": "code",
   "execution_count": 1,
   "metadata": {},
   "outputs": [],
   "source": [
    "from context import spcount\n",
    "from spcount.Query import Query\n",
    "from spcount.count_util import read_query_list"
   ]
  },
  {
   "cell_type": "code",
   "execution_count": 12,
   "metadata": {},
   "outputs": [
    {
     "data": {
      "text/plain": [
       "124314"
      ]
     },
     "execution_count": 12,
     "metadata": {},
     "output_type": "execute_result"
    }
   ],
   "source": [
    "file_map={\"A\":\"/scratch/vickers_lab/projects/20211216_3626_RA_smRNA_human_rerun/intermediate_data/refseq_bacteria_bowtie_count/result/HDL_01_JPN.txt.gz\"}\n",
    "queries = read_query_list(None, file_map)\n",
    "len(queries)"
   ]
  },
  {
   "cell_type": "markdown",
   "metadata": {},
   "source": [
    "Check how many queries mapped to identical species"
   ]
  },
  {
   "cell_type": "code",
   "execution_count": 14,
   "metadata": {},
   "outputs": [
    {
     "name": "stdout",
     "output_type": "stream",
     "text": [
      "sort species_list\n",
      "sort queries\n",
      "merge queries\n",
      "old queries = 47068\n",
      "\n",
      "new queries = 47068\n",
      "\n"
     ]
    }
   ],
   "source": [
    "print(\"sort species_list\")\n",
    "for q in queries:\n",
    "  q.species_list.sort()\n",
    "\n",
    "print(\"sort queries\")\n",
    "queries.sort(key=lambda x:len(x.species_list), reverse=True)\n",
    "\n",
    "print(\"merge queries\")\n",
    "for i1 in range(0, len(queries)):\n",
    "  q1 = queries[i1]\n",
    "  if q1 == None:\n",
    "    continue\n",
    "  l1 = len(q1.species_list)\n",
    "\n",
    "  for i2 in range(i1+1, len(queries)):\n",
    "    q2 = queries[i2]\n",
    "    if q2 == None:\n",
    "      continue\n",
    "\n",
    "    if l1 > len(q2.species_list):\n",
    "      break\n",
    "\n",
    "    if q1.species_list == q2.species_list:\n",
    "      q1.count += q2.count\n",
    "      queries[i2] = None\n",
    "\n",
    "print(f\"old queries = {len(queries)}\\n\")\n",
    "queries = [q for q in queries if q != None]\n",
    "print(f\"new queries = {len(queries)}\\n\")\n"
   ]
  }
 ],
 "metadata": {
  "interpreter": {
   "hash": "16b863e6d8d5fc256f45d05ded77a3123f992754796a7eba278cdde0e007a1fa"
  },
  "kernelspec": {
   "display_name": "Python 3.9.7",
   "language": "python",
   "name": "python3"
  },
  "language_info": {
   "codemirror_mode": {
    "name": "ipython",
    "version": 3
   },
   "file_extension": ".py",
   "mimetype": "text/x-python",
   "name": "python",
   "nbconvert_exporter": "python",
   "pygments_lexer": "ipython3",
   "version": "3.9.7"
  },
  "orig_nbformat": 4
 },
 "nbformat": 4,
 "nbformat_minor": 2
}
