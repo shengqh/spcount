{
 "cells": [
  {
   "cell_type": "code",
   "execution_count": 1,
   "metadata": {},
   "outputs": [],
   "source": [
    "sys.path.insert(0, '/home/shengq2/program/spcount/src')\n",
    "\n",
    "import pandas as pd\n",
    "import numpy as np\n",
    "#from spcount.common_util import readFileMap"
   ]
  },
  {
   "cell_type": "code",
   "execution_count": 7,
   "metadata": {},
   "outputs": [],
   "source": [
    "treeFile=\"/scratch/vickers_lab/projects/20220707_4893_2_RA_smRNA_mouse_v5_forSpcount/nonhost_genome/refseq_bacteria_table/result/RA_4893_2.species.estimated.count\"\n",
    "outputPrefix=\"/scratch/vickers_lab/projects/20220707_4893_2_RA_smRNA_mouse_v5_forSpcount/test/RA_4893_2.species\""
   ]
  },
  {
   "cell_type": "code",
   "execution_count": 3,
   "metadata": {},
   "outputs": [],
   "source": [
    "name_map = {}\n",
    "with open(\"/data/cqs/references/spcount/taxonomy.tab\", \"rt\") as fin:\n",
    "  for line in fin:\n",
    "    parts = line.rstrip().split('\\t')\n",
    "    name_map[parts[4]] = {\n",
    "      \"id\":int(parts[0]),\n",
    "      \"rank_level\": int(parts[1]),\n",
    "      \"parent_id\": int(parts[2]),\n",
    "      \"rank\": parts[3],\n",
    "      \"name\": parts[4]\n",
    "    }"
   ]
  },
  {
   "cell_type": "code",
   "execution_count": 5,
   "metadata": {},
   "outputs": [
    {
     "name": "stdout",
     "output_type": "stream",
     "text": [
      "Index(['IgAKO_SH_2', 'IgAKO_SH_3', 'IgAKO_SH_4', 'IgAKO_SH_5', 'WT_SH_1',\n",
      "       'WT_SH_2', 'WT_SH_3', 'WT_SH_4', 'WT_SH_5'],\n",
      "      dtype='object')\n"
     ]
    }
   ],
   "source": [
    "tree_data = pd.read_csv(treeFile, sep=\"\\t\")\n",
    "samples = tree_data.columns[2:]\n",
    "print(samples)"
   ]
  },
  {
   "cell_type": "code",
   "execution_count": 6,
   "metadata": {},
   "outputs": [
    {
     "data": {
      "text/plain": [
       "(array([ True]), array([14838]))"
      ]
     },
     "execution_count": 6,
     "metadata": {},
     "output_type": "execute_result"
    }
   ],
   "source": [
    "find_names = tree_data.Feature.isin(name_map.keys())\n",
    "np.unique(find_names, return_counts=True)"
   ]
  },
  {
   "cell_type": "code",
   "execution_count": 21,
   "metadata": {},
   "outputs": [
    {
     "data": {
      "text/html": [
       "<div>\n",
       "<style scoped>\n",
       "    .dataframe tbody tr th:only-of-type {\n",
       "        vertical-align: middle;\n",
       "    }\n",
       "\n",
       "    .dataframe tbody tr th {\n",
       "        vertical-align: top;\n",
       "    }\n",
       "\n",
       "    .dataframe thead th {\n",
       "        text-align: right;\n",
       "    }\n",
       "</style>\n",
       "<table border=\"1\" class=\"dataframe\">\n",
       "  <thead>\n",
       "    <tr style=\"text-align: right;\">\n",
       "      <th></th>\n",
       "      <th>Feature</th>\n",
       "      <th>TaxonomyId</th>\n",
       "      <th>Rank</th>\n",
       "      <th>IgAKO_SH_1</th>\n",
       "      <th>IgAKO_SH_2</th>\n",
       "      <th>IgAKO_SH_3</th>\n",
       "      <th>IgAKO_SH_4</th>\n",
       "      <th>IgAKO_SH_5</th>\n",
       "      <th>WT_SH_1</th>\n",
       "      <th>WT_SH_2</th>\n",
       "      <th>WT_SH_3</th>\n",
       "      <th>WT_SH_4</th>\n",
       "      <th>WT_SH_5</th>\n",
       "    </tr>\n",
       "  </thead>\n",
       "  <tbody>\n",
       "    <tr>\n",
       "      <th>0</th>\n",
       "      <td>Pseudomonas yamanorum</td>\n",
       "      <td>515393</td>\n",
       "      <td>species</td>\n",
       "      <td>10608.96</td>\n",
       "      <td>13471.89</td>\n",
       "      <td>7865.94</td>\n",
       "      <td>9011.63</td>\n",
       "      <td>7384.00</td>\n",
       "      <td>18934.46</td>\n",
       "      <td>5778.83</td>\n",
       "      <td>3730.68</td>\n",
       "      <td>2696.19</td>\n",
       "      <td>8907.07</td>\n",
       "    </tr>\n",
       "    <tr>\n",
       "      <th>1</th>\n",
       "      <td>Pseudomonas synxantha</td>\n",
       "      <td>47883</td>\n",
       "      <td>species</td>\n",
       "      <td>3018.41</td>\n",
       "      <td>3450.07</td>\n",
       "      <td>1930.61</td>\n",
       "      <td>2010.35</td>\n",
       "      <td>1659.79</td>\n",
       "      <td>4861.14</td>\n",
       "      <td>1232.17</td>\n",
       "      <td>1018.76</td>\n",
       "      <td>574.15</td>\n",
       "      <td>1760.33</td>\n",
       "    </tr>\n",
       "    <tr>\n",
       "      <th>2</th>\n",
       "      <td>Pseudomonas costantinii</td>\n",
       "      <td>168469</td>\n",
       "      <td>species</td>\n",
       "      <td>2753.68</td>\n",
       "      <td>3276.21</td>\n",
       "      <td>1523.98</td>\n",
       "      <td>1660.54</td>\n",
       "      <td>1525.22</td>\n",
       "      <td>4294.71</td>\n",
       "      <td>1011.63</td>\n",
       "      <td>759.45</td>\n",
       "      <td>509.02</td>\n",
       "      <td>1618.72</td>\n",
       "    </tr>\n",
       "    <tr>\n",
       "      <th>3</th>\n",
       "      <td>Pseudomonas salomonii</td>\n",
       "      <td>191391</td>\n",
       "      <td>species</td>\n",
       "      <td>21099.40</td>\n",
       "      <td>18135.99</td>\n",
       "      <td>7366.41</td>\n",
       "      <td>9376.93</td>\n",
       "      <td>5992.61</td>\n",
       "      <td>32135.57</td>\n",
       "      <td>6543.74</td>\n",
       "      <td>4718.66</td>\n",
       "      <td>3304.05</td>\n",
       "      <td>8126.20</td>\n",
       "    </tr>\n",
       "    <tr>\n",
       "      <th>4</th>\n",
       "      <td>Pseudomonas cedrina</td>\n",
       "      <td>651740</td>\n",
       "      <td>species</td>\n",
       "      <td>2817.78</td>\n",
       "      <td>3307.95</td>\n",
       "      <td>1529.03</td>\n",
       "      <td>1793.95</td>\n",
       "      <td>1741.42</td>\n",
       "      <td>4278.76</td>\n",
       "      <td>1125.90</td>\n",
       "      <td>950.50</td>\n",
       "      <td>609.02</td>\n",
       "      <td>1836.25</td>\n",
       "    </tr>\n",
       "  </tbody>\n",
       "</table>\n",
       "</div>"
      ],
      "text/plain": [
       "                   Feature  TaxonomyId     Rank  IgAKO_SH_1  IgAKO_SH_2  \\\n",
       "0    Pseudomonas yamanorum      515393  species    10608.96    13471.89   \n",
       "1    Pseudomonas synxantha       47883  species     3018.41     3450.07   \n",
       "2  Pseudomonas costantinii      168469  species     2753.68     3276.21   \n",
       "3    Pseudomonas salomonii      191391  species    21099.40    18135.99   \n",
       "4      Pseudomonas cedrina      651740  species     2817.78     3307.95   \n",
       "\n",
       "   IgAKO_SH_3  IgAKO_SH_4  IgAKO_SH_5   WT_SH_1  WT_SH_2  WT_SH_3  WT_SH_4  \\\n",
       "0     7865.94     9011.63     7384.00  18934.46  5778.83  3730.68  2696.19   \n",
       "1     1930.61     2010.35     1659.79   4861.14  1232.17  1018.76   574.15   \n",
       "2     1523.98     1660.54     1525.22   4294.71  1011.63   759.45   509.02   \n",
       "3     7366.41     9376.93     5992.61  32135.57  6543.74  4718.66  3304.05   \n",
       "4     1529.03     1793.95     1741.42   4278.76  1125.90   950.50   609.02   \n",
       "\n",
       "   WT_SH_5  \n",
       "0  8907.07  \n",
       "1  1760.33  \n",
       "2  1618.72  \n",
       "3  8126.20  \n",
       "4  1836.25  "
      ]
     },
     "execution_count": 21,
     "metadata": {},
     "output_type": "execute_result"
    }
   ],
   "source": [
    "\n",
    "def get_taxonomy_id(name_map, row):  \n",
    "  return (name_map[row['Feature']]['id'])\n",
    "\n",
    "def get_rank(name_map, row):  \n",
    "  return (name_map[row['Feature']]['rank'])\n",
    "\n",
    "tree_data.insert(loc=1, column=\"TaxonomyId\", value=tree_data.apply(lambda row: get_taxonomy_id(name_map, row), axis=1))\n",
    "tree_data.insert(loc=2, column=\"Rank\", value=tree_data.apply(lambda row: get_rank(name_map, row), axis=1))\n",
    "tree_data.head()\n"
   ]
  },
  {
   "cell_type": "code",
   "execution_count": 22,
   "metadata": {},
   "outputs": [],
   "source": [
    "new_tree_file=outputPrefix + \".tree.count\"\n",
    "tree_data.to_csv(new_tree_file, sep=\"\\t\", index=False)"
   ]
  },
  {
   "cell_type": "code",
   "execution_count": 24,
   "metadata": {},
   "outputs": [
    {
     "data": {
      "text/html": [
       "<div>\n",
       "<style scoped>\n",
       "    .dataframe tbody tr th:only-of-type {\n",
       "        vertical-align: middle;\n",
       "    }\n",
       "\n",
       "    .dataframe tbody tr th {\n",
       "        vertical-align: top;\n",
       "    }\n",
       "\n",
       "    .dataframe thead th {\n",
       "        text-align: right;\n",
       "    }\n",
       "</style>\n",
       "<table border=\"1\" class=\"dataframe\">\n",
       "  <thead>\n",
       "    <tr style=\"text-align: right;\">\n",
       "      <th></th>\n",
       "      <th>sample_name</th>\n",
       "      <th>group_name</th>\n",
       "    </tr>\n",
       "  </thead>\n",
       "  <tbody>\n",
       "    <tr>\n",
       "      <th>0</th>\n",
       "      <td>IgAKO_SH_1</td>\n",
       "      <td>IgAKO_SH</td>\n",
       "    </tr>\n",
       "    <tr>\n",
       "      <th>1</th>\n",
       "      <td>IgAKO_SH_2</td>\n",
       "      <td>IgAKO_SH</td>\n",
       "    </tr>\n",
       "    <tr>\n",
       "      <th>2</th>\n",
       "      <td>IgAKO_SH_3</td>\n",
       "      <td>IgAKO_SH</td>\n",
       "    </tr>\n",
       "    <tr>\n",
       "      <th>3</th>\n",
       "      <td>IgAKO_SH_4</td>\n",
       "      <td>IgAKO_SH</td>\n",
       "    </tr>\n",
       "    <tr>\n",
       "      <th>4</th>\n",
       "      <td>IgAKO_SH_5</td>\n",
       "      <td>IgAKO_SH</td>\n",
       "    </tr>\n",
       "  </tbody>\n",
       "</table>\n",
       "</div>"
      ],
      "text/plain": [
       "  sample_name group_name\n",
       "0  IgAKO_SH_1   IgAKO_SH\n",
       "1  IgAKO_SH_2   IgAKO_SH\n",
       "2  IgAKO_SH_3   IgAKO_SH\n",
       "3  IgAKO_SH_4   IgAKO_SH\n",
       "4  IgAKO_SH_5   IgAKO_SH"
      ]
     },
     "execution_count": 24,
     "metadata": {},
     "output_type": "execute_result"
    }
   ],
   "source": [
    "groupFile=\"/scratch/vickers_lab/projects/20220707_4893_2_RA_smRNA_mouse_v5_forSpcount/data_visualization/refseq_bacteria_krona_estimated/result/RA_4893_2__fileList1.list\"\n",
    "groups_df=pd.read_csv(groupFile, sep=\"\\t\", header=None)\n",
    "groups_df.rename(columns={groups_df.columns[0]:\"sample_name\", groups_df.columns.values[1]:\"group_name\"}, inplace=True)\n",
    "groups_df.head()"
   ]
  },
  {
   "cell_type": "code",
   "execution_count": 25,
   "metadata": {},
   "outputs": [
    {
     "name": "stdout",
     "output_type": "stream",
     "text": [
      "     sample_name group_name\n",
      "0     IgAKO_SH_1   IgAKO_SH\n",
      "1     IgAKO_SH_2   IgAKO_SH\n",
      "2     IgAKO_SH_3   IgAKO_SH\n",
      "3     IgAKO_SH_4   IgAKO_SH\n",
      "4     IgAKO_SH_5   IgAKO_SH\n",
      "5        WT_SH_1      WT_SH\n",
      "6        WT_SH_2      WT_SH\n",
      "7        WT_SH_3      WT_SH\n",
      "8        WT_SH_4      WT_SH\n",
      "9        WT_SH_5      WT_SH\n",
      "10  dummy_sample   IgAKO_SH\n"
     ]
    }
   ],
   "source": [
    "groups_df.loc[len(groups_df.index)] = ['dummy_sample', 'IgAKO_SH'] \n",
    "print(groups_df)\n"
   ]
  },
  {
   "cell_type": "code",
   "execution_count": 26,
   "metadata": {},
   "outputs": [
    {
     "name": "stdout",
     "output_type": "stream",
     "text": [
      "0      True\n",
      "1      True\n",
      "2      True\n",
      "3      True\n",
      "4      True\n",
      "5      True\n",
      "6      True\n",
      "7      True\n",
      "8      True\n",
      "9      True\n",
      "10    False\n",
      "Name: sample_name, dtype: bool\n"
     ]
    }
   ],
   "source": [
    "sample_matched = groups_df.sample_name.isin(tree_data.columns)\n",
    "print(sample_matched)\n"
   ]
  },
  {
   "cell_type": "code",
   "execution_count": 34,
   "metadata": {},
   "outputs": [
    {
     "name": "stdout",
     "output_type": "stream",
     "text": [
      "['dummy_sample']\n"
     ]
    },
    {
     "ename": "Exception",
     "evalue": "Not all samples in group definition file in data columns:dummy_sample",
     "output_type": "error",
     "traceback": [
      "\u001b[0;31m---------------------------------------------------------------------------\u001b[0m",
      "\u001b[0;31mException\u001b[0m                                 Traceback (most recent call last)",
      "\u001b[1;32m/home/shengq2/program/spcount/scripts/T08_krona_estimated_count.ipynb Cell 11\u001b[0m in \u001b[0;36m<cell line: 1>\u001b[0;34m()\u001b[0m\n\u001b[1;32m      <a href='vscode-notebook-cell://ssh-remote%2Bcqs4.accre.vanderbilt.edu/home/shengq2/program/spcount/scripts/T08_krona_estimated_count.ipynb#ch0000010vscode-remote?line=1'>2</a>\u001b[0m unmatched \u001b[39m=\u001b[39m groups_df[\u001b[39m~\u001b[39msample_matched]\u001b[39m.\u001b[39msample_name\u001b[39m.\u001b[39mtolist()\n\u001b[1;32m      <a href='vscode-notebook-cell://ssh-remote%2Bcqs4.accre.vanderbilt.edu/home/shengq2/program/spcount/scripts/T08_krona_estimated_count.ipynb#ch0000010vscode-remote?line=2'>3</a>\u001b[0m \u001b[39mprint\u001b[39m(unmatched)\n\u001b[0;32m----> <a href='vscode-notebook-cell://ssh-remote%2Bcqs4.accre.vanderbilt.edu/home/shengq2/program/spcount/scripts/T08_krona_estimated_count.ipynb#ch0000010vscode-remote?line=3'>4</a>\u001b[0m \u001b[39mraise\u001b[39;00m \u001b[39mException\u001b[39;00m(\u001b[39m\"\u001b[39m\u001b[39mNot all samples in group definition file in data columns:\u001b[39m\u001b[39m\"\u001b[39m \u001b[39m+\u001b[39m \u001b[39m\"\u001b[39m\u001b[39m,\u001b[39m\u001b[39m\"\u001b[39m\u001b[39m.\u001b[39mjoin(unmatched))\n",
      "\u001b[0;31mException\u001b[0m: Not all samples in group definition file in data columns:dummy_sample"
     ]
    }
   ],
   "source": [
    "if not sample_matched.all():\n",
    "  unmatched = groups_df[~sample_matched].sample_name.tolist()\n",
    "  print(unmatched)\n",
    "  raise Exception(\"Check your data file and group file. Some samples in group file are not in data file column: \" + \",\".join(unmatched))\n"
   ]
  }
 ],
 "metadata": {
  "kernelspec": {
   "display_name": "Python 3.10.4 64-bit ('conda_py3_10')",
   "language": "python",
   "name": "python3"
  },
  "language_info": {
   "codemirror_mode": {
    "name": "ipython",
    "version": 3
   },
   "file_extension": ".py",
   "mimetype": "text/x-python",
   "name": "python",
   "nbconvert_exporter": "python",
   "pygments_lexer": "ipython3",
   "version": "3.10.4"
  },
  "orig_nbformat": 4,
  "vscode": {
   "interpreter": {
    "hash": "f456f3eb05c73ce5e637900a8078ae936a462822f21d45a1b1c996283f110744"
   }
  }
 },
 "nbformat": 4,
 "nbformat_minor": 2
}
