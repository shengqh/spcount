{
 "cells": [
  {
   "cell_type": "code",
   "execution_count": null,
   "metadata": {},
   "outputs": [],
   "source": [
    "import pickle\n",
    "from spcount.Species import Species\n",
    "from spcount.Query import Query\n",
    "import sys\n",
    "import os"
   ]
  },
  {
   "cell_type": "code",
   "execution_count": null,
   "metadata": {},
   "outputs": [],
   "source": [
    "\n",
    "\n",
    "output_prefix='/scratch/vickers_lab/projects/20220417_bacteria_genome/nonhost_genome/refseq_bacteria_table/result/RA_4893_2'\n",
    "with open(output_prefix + '.pickle', 'rb') as handle:\n",
    "  myobj = pickle.load(handle)"
   ]
  },
  {
   "cell_type": "code",
   "execution_count": null,
   "metadata": {},
   "outputs": [],
   "source": [
    "species_taxonomy_map=myobj[\"species_taxonomy_map\"]\n",
    "keys = [k for k in species_taxonomy_map.keys()]\n",
    "species_taxonomy_map[keys[0]]\n"
   ]
  },
  {
   "cell_type": "code",
   "execution_count": null,
   "metadata": {},
   "outputs": [],
   "source": [
    "species_list=myobj[\"species_list\"]\n",
    "species_list[0].sample_query_count"
   ]
  },
  {
   "cell_type": "code",
   "execution_count": null,
   "metadata": {},
   "outputs": [],
   "source": [
    "#logger.info(\"merge identical\")\n",
    "for sv in species_list:\n",
    "  sv.is_identical = False\n",
    "  sv.identical_species = []\n",
    "\n",
    "for i1 in range(0, len(species_list)-1):\n",
    "  if species_list[i1].is_identical:\n",
    "    continue\n",
    "  if i1 % 100 == 0:\n",
    "    print(f\"checking identical: {i1+1} / {len(species_list)}\")\n",
    "  for i2 in range(i1+1, len(species_list)):\n",
    "    if species_list[i2].is_identical:\n",
    "      continue\n",
    "    if species_list[i1].query_count != species_list[i2].query_count:\n",
    "      break\n",
    "    if species_list[i1].queries_set == species_list[i2].queries_set:\n",
    "      species_list[i2].is_identical = True\n",
    "      species_list[i1].identical_species.append(species_list[i2])\n",
    "\n",
    "old_len = len(species_list)\n",
    "new_len = len([sv for sv in species_list if not sv.is_identical])\n",
    "print(f\"{old_len - new_len} identical species were found\")\n"
   ]
  },
  {
   "cell_type": "code",
   "execution_count": null,
   "metadata": {},
   "outputs": [],
   "source": [
    "for i1 in range(0, len(species_list)-1):\n",
    "  if species_list[i1].is_subset or species_list[i1].is_identical:\n",
    "    continue\n",
    "  if i1 % 100 == 0:\n",
    "    print(f\"checking subset: {i1+1} / {len(species_list)}\")\n",
    "  for i2 in range(i1+1, len(species_list)):\n",
    "    if species_list[i2].is_subset or species_list[i1].is_identical:\n",
    "      continue\n",
    "    if species_list[i1].contains(species_list[i2]):\n",
    "      species_list[i2].is_subset = True\n",
    "\n",
    "#remove subset species from query \n",
    "for species in species_list:\n",
    "  if species.is_subset:\n",
    "    all_names = [species.name] + species.identical_species\n",
    "    for qlist in species.queries.values():\n",
    "      for q in qlist:\n",
    "        q.remove_species(all_names)\n",
    "\n",
    "old_len = len(species_list)\n",
    "species_list = [sv for sv in species_list if not sv.is_subset]\n",
    "new_len = len(species_list)\n",
    "print(f\"{old_len - new_len} subset were removed\")\n"
   ]
  },
  {
   "cell_type": "code",
   "execution_count": null,
   "metadata": {},
   "outputs": [],
   "source": [
    "samples=myobj['samples']\n",
    "samples"
   ]
  },
  {
   "cell_type": "code",
   "execution_count": null,
   "metadata": {},
   "outputs": [],
   "source": [
    "with open(output_prefix + \".species.query.count\", \"wt\") as fout:\n",
    "  fout.write(\"Feature\\t\" + \"\\t\".join(samples) + \"\\n\")\n",
    "  for species in species_list:\n",
    "    if species.is_identical:\n",
    "      continue\n",
    "    species_name = species.name\n",
    "    if len(species.identical_species) > 0:\n",
    "      species_name = species_name + \",\" + \",\".join([s.name for s in species.identical_species])\n",
    "    countstr = \"\\t\".join(str(species.sample_query_count[sample]) if sample in species.sample_query_count else \"0\" for sample in samples)\n",
    "    fout.write(f\"{species_name}\\t{countstr}\\n\")\n"
   ]
  },
  {
   "cell_type": "code",
   "execution_count": null,
   "metadata": {},
   "outputs": [],
   "source": [
    "query_list=set(myobj['query_list'])\n",
    "for species in species_list:\n",
    "  for sample_queries in species.queries.values():\n",
    "    for query in sample_queries:\n",
    "      assert(query in query_list)\n"
   ]
  },
  {
   "cell_type": "code",
   "execution_count": null,
   "metadata": {},
   "outputs": [],
   "source": [
    "for query in query_list:\n",
    "  query.estimate_count()\n"
   ]
  },
  {
   "cell_type": "code",
   "execution_count": null,
   "metadata": {},
   "outputs": [],
   "source": [
    "for species in species_list:\n",
    "  species.sum_estimated_count()\n"
   ]
  },
  {
   "cell_type": "code",
   "execution_count": null,
   "metadata": {},
   "outputs": [],
   "source": [
    "with open(output_prefix + \".species.estimated.count\", \"wt\") as fout:\n",
    "  fout.write(\"Feature\\t\" + \"\\t\".join(samples) + \"\\n\")\n",
    "  for species in species_list:\n",
    "    if species.is_identical:\n",
    "      continue\n",
    "\n",
    "    species_name = species.name\n",
    "    if len(species.identical_species) > 0:\n",
    "      species_name = species_name + \",\" + \",\".join([s.name for s in species.identical_species])\n",
    "    countstr = \"\\t\".join(\"{:.2f}\".format(species.sample_estimated_count[sample]) if sample in species.sample_estimated_count else \"0\" for sample in samples)\n",
    "    fout.write(f\"{species_name}\\t{countstr}\\n\")\n"
   ]
  },
  {
   "cell_type": "code",
   "execution_count": null,
   "metadata": {},
   "outputs": [],
   "source": [
    "levels = [ 'genus', 'family', 'order', 'class', 'phylum']\n",
    "for level in levels:\n",
    "  cat_map = {}\n",
    "  for species in species_list:\n",
    "    cat_name = species_taxonomy_map[species.name][level]\n",
    "    #print(species.name + \": \" + cat_name)\n",
    "    if cat_name not in cat_map:\n",
    "      cat_map[cat_name] = Species(cat_name)\n",
    "    cat_map[cat_name].identical_species.append(species)\n",
    "  \n",
    "  cats = [cat for cat in cat_map.values()]\n",
    "  for cat in cats:\n",
    "    cat.sample_query_count = {}\n",
    "    for sample in samples:\n",
    "      squeries_set = set()\n",
    "      for species in cat.identical_species:\n",
    "        if sample in species.queries:\n",
    "          for query in species.queries[sample]:\n",
    "            squeries_set.add(query)\n",
    "      scount = sum([query.count for query in squeries_set])\n",
    "      cat.sample_query_count[sample] = scount\n",
    "    cat.query_count = sum([v for v in cat.sample_query_count.values()])\n",
    "\n",
    "    cat.estimated_count = sum([species.estimated_count for species in cat.identical_species])\n",
    "    cat.sample_estimated_count = {sample: sum([species.sample_estimated_count[sample] if sample in species.sample_estimated_count else 0 for species in cat.identical_species]) for sample in samples}\n",
    "    \n",
    "  cats.sort(key=lambda x:x.query_count, reverse=True)\n",
    "\n",
    "  with open(output_prefix + \".\" + level + \".query.count\", \"wt\") as fout:\n",
    "    fout.write(\"Feature\\t\" + \"\\t\".join(samples) + \"\\n\")\n",
    "    for species in cats:\n",
    "      species_name = species.name\n",
    "      countstr = \"\\t\".join(str(species.sample_query_count[sample]) if sample in species.sample_query_count else \"0\" for sample in samples)\n",
    "      fout.write(f\"{species_name}\\t{countstr}\\n\")\n",
    "\n",
    "  with open(output_prefix + \".\" + level + \".estimated.count\", \"wt\") as fout:\n",
    "    fout.write(\"Feature\\t\" + \"\\t\".join(samples) + \"\\n\")\n",
    "    for species in cats:\n",
    "      species_name = species.name\n",
    "      countstr = \"\\t\".join(\"{:.2f}\".format(species.sample_estimated_count[sample]) if sample in species.sample_estimated_count else \"0\" for sample in samples)\n",
    "      fout.write(f\"{species_name}\\t{countstr}\\n\")\n",
    "\n"
   ]
  }
 ],
 "metadata": {
  "interpreter": {
   "hash": "16b863e6d8d5fc256f45d05ded77a3123f992754796a7eba278cdde0e007a1fa"
  },
  "kernelspec": {
   "display_name": "Python 3.9.7",
   "language": "python",
   "name": "python3"
  },
  "language_info": {
   "codemirror_mode": {
    "name": "ipython",
    "version": 3
   },
   "file_extension": ".py",
   "mimetype": "text/x-python",
   "name": "python",
   "nbconvert_exporter": "python",
   "pygments_lexer": "ipython3",
   "version": "3.9.7"
  },
  "orig_nbformat": 4
 },
 "nbformat": 4,
 "nbformat_minor": 2
}
