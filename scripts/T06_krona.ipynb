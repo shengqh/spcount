{
 "cells": [
  {
   "cell_type": "code",
   "execution_count": 2,
   "metadata": {},
   "outputs": [],
   "source": [
    "sys.path.insert(0, '/home/shengq2/program/spcount/src')\n",
    "\n",
    "import pandas as pd\n",
    "#from spcount.common_util import readFileMap"
   ]
  },
  {
   "cell_type": "code",
   "execution_count": 3,
   "metadata": {},
   "outputs": [],
   "source": [
    "groupFile=\"/scratch/cqs/shengq2/spcount/fileList2.txt\"\n",
    "treeFile=\"/scratch/cqs/shengq2/spcount/RA_97_93.tree.count\"\n",
    "outputPrefix=\"/scratch/cqs/shengq2/spcount/RA_97_93\""
   ]
  },
  {
   "cell_type": "code",
   "execution_count": 48,
   "metadata": {},
   "outputs": [
    {
     "data": {
      "text/html": [
       "<div>\n",
       "<style scoped>\n",
       "    .dataframe tbody tr th:only-of-type {\n",
       "        vertical-align: middle;\n",
       "    }\n",
       "\n",
       "    .dataframe tbody tr th {\n",
       "        vertical-align: top;\n",
       "    }\n",
       "\n",
       "    .dataframe thead th {\n",
       "        text-align: right;\n",
       "    }\n",
       "</style>\n",
       "<table border=\"1\" class=\"dataframe\">\n",
       "  <thead>\n",
       "    <tr style=\"text-align: right;\">\n",
       "      <th></th>\n",
       "      <th>0</th>\n",
       "      <th>1</th>\n",
       "      <th>2</th>\n",
       "    </tr>\n",
       "  </thead>\n",
       "  <tbody>\n",
       "    <tr>\n",
       "      <th>0</th>\n",
       "      <td>GF1</td>\n",
       "      <td>GermFree</td>\n",
       "      <td>all</td>\n",
       "    </tr>\n",
       "    <tr>\n",
       "      <th>1</th>\n",
       "      <td>GF2</td>\n",
       "      <td>GermFree</td>\n",
       "      <td>all</td>\n",
       "    </tr>\n",
       "    <tr>\n",
       "      <th>2</th>\n",
       "      <td>GF3</td>\n",
       "      <td>GermFree</td>\n",
       "      <td>all</td>\n",
       "    </tr>\n",
       "    <tr>\n",
       "      <th>3</th>\n",
       "      <td>GF4</td>\n",
       "      <td>GermFree</td>\n",
       "      <td>all</td>\n",
       "    </tr>\n",
       "    <tr>\n",
       "      <th>4</th>\n",
       "      <td>GF5</td>\n",
       "      <td>GermFree</td>\n",
       "      <td>all</td>\n",
       "    </tr>\n",
       "  </tbody>\n",
       "</table>\n",
       "</div>"
      ],
      "text/plain": [
       "     0         1    2\n",
       "0  GF1  GermFree  all\n",
       "1  GF2  GermFree  all\n",
       "2  GF3  GermFree  all\n",
       "3  GF4  GermFree  all\n",
       "4  GF5  GermFree  all"
      ]
     },
     "execution_count": 48,
     "metadata": {},
     "output_type": "execute_result"
    }
   ],
   "source": [
    "groups_df=pd.read_csv(groupFile, sep=\"\\t\", header=None)\n",
    "groups_df.rename(columns={groups_df.columns[0]:\"sample\", groups_df.columns.values[1]:\"group\"}, inplace=True)\n",
    "groups_df.head()\n"
   ]
  },
  {
   "cell_type": "code",
   "execution_count": 36,
   "metadata": {},
   "outputs": [
    {
     "name": "stdout",
     "output_type": "stream",
     "text": [
      "Index(['GF1', 'GF2', 'GF3', 'GF4', 'GF5', 'GF6', 'GF7', 'GF8', 'GF9',\n",
      "       'GermFree_Rep1', 'GermFree_Rep2', 'GermFree_Rep3', 'GermFree_Rep4',\n",
      "       'GermFree_Rep5', 'GermFree_Rep6', 'GermFree_Rep7', 'SPF10', 'SPF11',\n",
      "       'SPF12', 'SPF_Rep1', 'SPF_Rep3', 'SPF_Rep4'],\n",
      "      dtype='object')\n"
     ]
    },
    {
     "data": {
      "text/plain": [
       "Rank_name        object\n",
       "TaxonomyId        int64\n",
       "Rank             object\n",
       "GF1               int64\n",
       "GF2               int64\n",
       "GF3               int64\n",
       "GF4               int64\n",
       "GF5               int64\n",
       "GF6               int64\n",
       "GF7               int64\n",
       "GF8               int64\n",
       "GF9               int64\n",
       "GermFree_Rep1     int64\n",
       "GermFree_Rep2     int64\n",
       "GermFree_Rep3     int64\n",
       "GermFree_Rep4     int64\n",
       "GermFree_Rep5     int64\n",
       "GermFree_Rep6     int64\n",
       "GermFree_Rep7     int64\n",
       "SPF10             int64\n",
       "SPF11             int64\n",
       "SPF12             int64\n",
       "SPF_Rep1          int64\n",
       "SPF_Rep3          int64\n",
       "SPF_Rep4          int64\n",
       "dtype: object"
      ]
     },
     "execution_count": 36,
     "metadata": {},
     "output_type": "execute_result"
    }
   ],
   "source": [
    "tree_data = pd.read_csv(treeFile, sep=\"\\t\")\n",
    "samples = tree_data.columns[3:]\n",
    "print(samples)\n",
    "\n",
    "tree_data.dtypes"
   ]
  },
  {
   "cell_type": "code",
   "execution_count": 7,
   "metadata": {},
   "outputs": [
    {
     "name": "stdout",
     "output_type": "stream",
     "text": [
      "GF1\n",
      "Loading taxonomy...\n",
      "Importing /scratch/cqs/shengq2/spcount/RA_97_93.tree.count...\n",
      "Importing GF1...\n"
     ]
    },
    {
     "name": "stderr",
     "output_type": "stream",
     "text": [
      "[ ERROR ]  Couldn't open \"GF1\".\n"
     ]
    }
   ],
   "source": [
    "import subprocess\n",
    "\n",
    "for ind in range(3, tree_data.shape[1]):\n",
    "  sample = tree_data.columns[ind]\n",
    "  print(sample)\n",
    "  subprocess.call(['ktImportTaxonomy', '-o', f\"{outputPrefix}.{sample}.html\", '-s', f\"{ind+1}\", treeFile, sample])\n",
    "  break\n"
   ]
  },
  {
   "cell_type": "code",
   "execution_count": 10,
   "metadata": {},
   "outputs": [
    {
     "data": {
      "text/plain": [
       "array(['GermFree', 'SPF'], dtype=object)"
      ]
     },
     "execution_count": 10,
     "metadata": {},
     "output_type": "execute_result"
    }
   ],
   "source": [
    "groups = groups_df.group.unique()\n",
    "groups"
   ]
  },
  {
   "cell_type": "code",
   "execution_count": 44,
   "metadata": {},
   "outputs": [
    {
     "data": {
      "text/html": [
       "<div>\n",
       "<style scoped>\n",
       "    .dataframe tbody tr th:only-of-type {\n",
       "        vertical-align: middle;\n",
       "    }\n",
       "\n",
       "    .dataframe tbody tr th {\n",
       "        vertical-align: top;\n",
       "    }\n",
       "\n",
       "    .dataframe thead th {\n",
       "        text-align: right;\n",
       "    }\n",
       "</style>\n",
       "<table border=\"1\" class=\"dataframe\">\n",
       "  <thead>\n",
       "    <tr style=\"text-align: right;\">\n",
       "      <th></th>\n",
       "      <th>Rank_name</th>\n",
       "      <th>TaxonomyId</th>\n",
       "      <th>Rank</th>\n",
       "    </tr>\n",
       "  </thead>\n",
       "  <tbody>\n",
       "    <tr>\n",
       "      <th>0</th>\n",
       "      <td>Pseudomonas</td>\n",
       "      <td>286</td>\n",
       "      <td>genus</td>\n",
       "    </tr>\n",
       "    <tr>\n",
       "      <th>1</th>\n",
       "      <td>Bacteria</td>\n",
       "      <td>2</td>\n",
       "      <td>superkingdom</td>\n",
       "    </tr>\n",
       "    <tr>\n",
       "      <th>2</th>\n",
       "      <td>Gammaproteobacteria</td>\n",
       "      <td>1236</td>\n",
       "      <td>class</td>\n",
       "    </tr>\n",
       "    <tr>\n",
       "      <th>3</th>\n",
       "      <td>Proteobacteria</td>\n",
       "      <td>1224</td>\n",
       "      <td>phylum</td>\n",
       "    </tr>\n",
       "    <tr>\n",
       "      <th>4</th>\n",
       "      <td>Burkholderiales</td>\n",
       "      <td>80840</td>\n",
       "      <td>order</td>\n",
       "    </tr>\n",
       "  </tbody>\n",
       "</table>\n",
       "</div>"
      ],
      "text/plain": [
       "             Rank_name  TaxonomyId          Rank\n",
       "0          Pseudomonas         286         genus\n",
       "1             Bacteria           2  superkingdom\n",
       "2  Gammaproteobacteria        1236         class\n",
       "3       Proteobacteria        1224        phylum\n",
       "4      Burkholderiales       80840         order"
      ]
     },
     "execution_count": 44,
     "metadata": {},
     "output_type": "execute_result"
    }
   ],
   "source": [
    "group_data=tree_data.iloc[:, [0,1,2]]\n",
    "group_data.head()"
   ]
  },
  {
   "cell_type": "code",
   "execution_count": 45,
   "metadata": {},
   "outputs": [
    {
     "name": "stdout",
     "output_type": "stream",
     "text": [
      "GermFree\n",
      "['GF1', 'GF2', 'GF3', 'GF4', 'GF5', 'GF6', 'GF7', 'GF8', 'GF9', 'GermFree_Rep1', 'GermFree_Rep2', 'GermFree_Rep3', 'GermFree_Rep4', 'GermFree_Rep5', 'GermFree_Rep6', 'GermFree_Rep7']\n",
      "SPF\n",
      "['SPF10', 'SPF11', 'SPF12', 'SPF_Rep1', 'SPF_Rep3', 'SPF_Rep4']\n"
     ]
    },
    {
     "name": "stderr",
     "output_type": "stream",
     "text": [
      "/tmp/ipykernel_18276/4047147982.py:8: SettingWithCopyWarning: \n",
      "A value is trying to be set on a copy of a slice from a DataFrame.\n",
      "Try using .loc[row_indexer,col_indexer] = value instead\n",
      "\n",
      "See the caveats in the documentation: https://pandas.pydata.org/pandas-docs/stable/user_guide/indexing.html#returning-a-view-versus-a-copy\n",
      "  group_data[gname] = tree_data[gsamples].sum(axis=1)\n"
     ]
    },
    {
     "data": {
      "text/html": [
       "<div>\n",
       "<style scoped>\n",
       "    .dataframe tbody tr th:only-of-type {\n",
       "        vertical-align: middle;\n",
       "    }\n",
       "\n",
       "    .dataframe tbody tr th {\n",
       "        vertical-align: top;\n",
       "    }\n",
       "\n",
       "    .dataframe thead th {\n",
       "        text-align: right;\n",
       "    }\n",
       "</style>\n",
       "<table border=\"1\" class=\"dataframe\">\n",
       "  <thead>\n",
       "    <tr style=\"text-align: right;\">\n",
       "      <th></th>\n",
       "      <th>Rank_name</th>\n",
       "      <th>TaxonomyId</th>\n",
       "      <th>Rank</th>\n",
       "      <th>GermFree</th>\n",
       "      <th>SPF</th>\n",
       "    </tr>\n",
       "  </thead>\n",
       "  <tbody>\n",
       "    <tr>\n",
       "      <th>0</th>\n",
       "      <td>Pseudomonas</td>\n",
       "      <td>286</td>\n",
       "      <td>genus</td>\n",
       "      <td>25199253</td>\n",
       "      <td>8230656</td>\n",
       "    </tr>\n",
       "    <tr>\n",
       "      <th>1</th>\n",
       "      <td>Bacteria</td>\n",
       "      <td>2</td>\n",
       "      <td>superkingdom</td>\n",
       "      <td>16734990</td>\n",
       "      <td>6279763</td>\n",
       "    </tr>\n",
       "    <tr>\n",
       "      <th>2</th>\n",
       "      <td>Gammaproteobacteria</td>\n",
       "      <td>1236</td>\n",
       "      <td>class</td>\n",
       "      <td>6067947</td>\n",
       "      <td>1610803</td>\n",
       "    </tr>\n",
       "    <tr>\n",
       "      <th>3</th>\n",
       "      <td>Proteobacteria</td>\n",
       "      <td>1224</td>\n",
       "      <td>phylum</td>\n",
       "      <td>4900529</td>\n",
       "      <td>1576646</td>\n",
       "    </tr>\n",
       "    <tr>\n",
       "      <th>4</th>\n",
       "      <td>Burkholderiales</td>\n",
       "      <td>80840</td>\n",
       "      <td>order</td>\n",
       "      <td>1322304</td>\n",
       "      <td>381373</td>\n",
       "    </tr>\n",
       "  </tbody>\n",
       "</table>\n",
       "</div>"
      ],
      "text/plain": [
       "             Rank_name  TaxonomyId          Rank  GermFree      SPF\n",
       "0          Pseudomonas         286         genus  25199253  8230656\n",
       "1             Bacteria           2  superkingdom  16734990  6279763\n",
       "2  Gammaproteobacteria        1236         class   6067947  1610803\n",
       "3       Proteobacteria        1224        phylum   4900529  1576646\n",
       "4      Burkholderiales       80840         order   1322304   381373"
      ]
     },
     "execution_count": 45,
     "metadata": {},
     "output_type": "execute_result"
    }
   ],
   "source": [
    "for gf in groups_df.groupby('group'):\n",
    "  gname = gf[0]\n",
    "  gdf = gf[1]\n",
    "  gsamples = gdf['sample'].tolist()\n",
    "  print(gname)\n",
    "  print(gsamples)\n",
    "  \n",
    "  group_data[gname] = tree_data[gsamples].sum(axis=1)\n",
    "\n",
    "group_data.head()"
   ]
  },
  {
   "cell_type": "code",
   "execution_count": 46,
   "metadata": {},
   "outputs": [],
   "source": [
    "group_data.to_csv(outputPrefix + \".group.txt\", sep=\"\\t\", index=None)"
   ]
  }
 ],
 "metadata": {
  "kernelspec": {
   "display_name": "Python 3.9.10 ('base')",
   "language": "python",
   "name": "python3"
  },
  "language_info": {
   "codemirror_mode": {
    "name": "ipython",
    "version": 3
   },
   "file_extension": ".py",
   "mimetype": "text/x-python",
   "name": "python",
   "nbconvert_exporter": "python",
   "pygments_lexer": "ipython3",
   "version": "3.9.10"
  },
  "orig_nbformat": 4,
  "vscode": {
   "interpreter": {
    "hash": "e79abc248d08a524954666732cfd82d91bb73f866f0d4aa3cb2d1fff4d2d0608"
   }
  }
 },
 "nbformat": 4,
 "nbformat_minor": 2
}
